{
 "cells": [
  {
   "cell_type": "code",
   "execution_count": 37,
   "metadata": {},
   "outputs": [
    {
     "name": "stdout",
     "output_type": "stream",
     "text": [
      "Requirement already satisfied: python-pptx in /Users/hiroto/opt/anaconda3/lib/python3.9/site-packages (0.6.21)\n",
      "Requirement already satisfied: lxml>=3.1.0 in /Users/hiroto/opt/anaconda3/lib/python3.9/site-packages (from python-pptx) (4.8.0)\n",
      "Requirement already satisfied: Pillow>=3.3.2 in /Users/hiroto/opt/anaconda3/lib/python3.9/site-packages (from python-pptx) (9.0.1)\n",
      "Requirement already satisfied: XlsxWriter>=0.5.7 in /Users/hiroto/opt/anaconda3/lib/python3.9/site-packages (from python-pptx) (3.0.3)\n"
     ]
    }
   ],
   "source": [
    "!pip install python-pptx"
   ]
  },
  {
   "cell_type": "code",
   "execution_count": 1,
   "metadata": {},
   "outputs": [
    {
     "data": {
      "text/html": [
       "<div>\n",
       "<style scoped>\n",
       "    .dataframe tbody tr th:only-of-type {\n",
       "        vertical-align: middle;\n",
       "    }\n",
       "\n",
       "    .dataframe tbody tr th {\n",
       "        vertical-align: top;\n",
       "    }\n",
       "\n",
       "    .dataframe thead th {\n",
       "        text-align: right;\n",
       "    }\n",
       "</style>\n",
       "<table border=\"1\" class=\"dataframe\">\n",
       "  <thead>\n",
       "    <tr style=\"text-align: right;\">\n",
       "      <th></th>\n",
       "      <th>CorporateID</th>\n",
       "      <th>ProjectID</th>\n",
       "      <th>email</th>\n",
       "    </tr>\n",
       "  </thead>\n",
       "  <tbody>\n",
       "    <tr>\n",
       "      <th>0</th>\n",
       "      <td>11235</td>\n",
       "      <td>ABC001</td>\n",
       "      <td>abc@email.com</td>\n",
       "    </tr>\n",
       "    <tr>\n",
       "      <th>1</th>\n",
       "      <td>12345</td>\n",
       "      <td>XYZ123</td>\n",
       "      <td>xyz@email.com</td>\n",
       "    </tr>\n",
       "  </tbody>\n",
       "</table>\n",
       "</div>"
      ],
      "text/plain": [
       "  CorporateID ProjectID          email\n",
       "0       11235    ABC001  abc@email.com\n",
       "1       12345    XYZ123  xyz@email.com"
      ]
     },
     "execution_count": 1,
     "metadata": {},
     "output_type": "execute_result"
    }
   ],
   "source": [
    "# slideにのせる用\n",
    "import pandas as pd\n",
    "list_data = [[\"11235\", \"ABC001\", \"abc@email.com\"],\n",
    "[\"12345\", \"XYZ123\", \"xyz@email.com\"]]\n",
    "column_name = [\"CorporateID\", \"ProjectID\", \"email\"]\n",
    "df = pd.DataFrame(data=list_data, columns=column_name)\n",
    "df"
   ]
  },
  {
   "cell_type": "code",
   "execution_count": 2,
   "metadata": {},
   "outputs": [
    {
     "name": "stdout",
     "output_type": "stream",
     "text": [
      "  CorporateID ProjectID          email\n",
      "0       11235    ABC001  abc@email.com\n",
      "1       12345    XYZ123  xyz@email.com\n"
     ]
    },
    {
     "data": {
      "text/html": [
       "<div>\n",
       "<style scoped>\n",
       "    .dataframe tbody tr th:only-of-type {\n",
       "        vertical-align: middle;\n",
       "    }\n",
       "\n",
       "    .dataframe tbody tr th {\n",
       "        vertical-align: top;\n",
       "    }\n",
       "\n",
       "    .dataframe thead th {\n",
       "        text-align: right;\n",
       "    }\n",
       "</style>\n",
       "<table border=\"1\" class=\"dataframe\">\n",
       "  <thead>\n",
       "    <tr style=\"text-align: right;\">\n",
       "      <th></th>\n",
       "      <th>ProjectID</th>\n",
       "      <th>Type</th>\n",
       "      <th>Price</th>\n",
       "      <th>Cost</th>\n",
       "      <th>Cost_lastmonth</th>\n",
       "    </tr>\n",
       "  </thead>\n",
       "  <tbody>\n",
       "    <tr>\n",
       "      <th>0</th>\n",
       "      <td>ABC001</td>\n",
       "      <td>A</td>\n",
       "      <td>5000</td>\n",
       "      <td>9000</td>\n",
       "      <td>3000</td>\n",
       "    </tr>\n",
       "    <tr>\n",
       "      <th>1</th>\n",
       "      <td>ABC001</td>\n",
       "      <td>B</td>\n",
       "      <td>3000</td>\n",
       "      <td>9000</td>\n",
       "      <td>3000</td>\n",
       "    </tr>\n",
       "    <tr>\n",
       "      <th>2</th>\n",
       "      <td>ABC001</td>\n",
       "      <td>C</td>\n",
       "      <td>1000</td>\n",
       "      <td>9000</td>\n",
       "      <td>3000</td>\n",
       "    </tr>\n",
       "    <tr>\n",
       "      <th>3</th>\n",
       "      <td>XYZ123</td>\n",
       "      <td>A</td>\n",
       "      <td>7000</td>\n",
       "      <td>7000</td>\n",
       "      <td>2000</td>\n",
       "    </tr>\n",
       "    <tr>\n",
       "      <th>4</th>\n",
       "      <td>XXX001</td>\n",
       "      <td>C</td>\n",
       "      <td>1000</td>\n",
       "      <td>1000</td>\n",
       "      <td>1000</td>\n",
       "    </tr>\n",
       "  </tbody>\n",
       "</table>\n",
       "</div>"
      ],
      "text/plain": [
       "  ProjectID Type  Price  Cost  Cost_lastmonth\n",
       "0    ABC001    A   5000  9000            3000\n",
       "1    ABC001    B   3000  9000            3000\n",
       "2    ABC001    C   1000  9000            3000\n",
       "3    XYZ123    A   7000  7000            2000\n",
       "4    XXX001    C   1000  1000            1000"
      ]
     },
     "execution_count": 2,
     "metadata": {},
     "output_type": "execute_result"
    }
   ],
   "source": [
    "from data import make_dataframe\n",
    "df = make_dataframe()\n",
    "df"
   ]
  },
  {
   "cell_type": "code",
   "execution_count": 3,
   "metadata": {},
   "outputs": [],
   "source": [
    "def project_cost(df):\n",
    "    d = df.drop_duplicates(subset='ProjectID')\n",
    "    cost = sum(d['Cost'])\n",
    "    cost_lastmonth = sum(d['Cost_lastmonth'])\n",
    "    return cost, cost_lastmonth"
   ]
  },
  {
   "cell_type": "code",
   "execution_count": 4,
   "metadata": {},
   "outputs": [],
   "source": [
    "from pptx import Presentation\n",
    "from pptx.util import Cm\n",
    "from pptx.enum.text import PP_ALIGN\n",
    "from pptx.dml.color import RGBColor\n",
    "\n",
    "prs = Presentation()\n",
    "sld0 = prs.slides.add_slide(prs.slide_layouts[6])\n",
    "\n",
    "nrow, ncol = df.shape\n",
    "ppt_nrow = nrow + 2 # 列名と合計コスト挿入用に2行追加\n",
    "\n",
    "# shapeオブジェクト(表)を追加\n",
    "table_shape = sld0.shapes.add_table(ppt_nrow, ncol, Cm(1), Cm(1), Cm(24), Cm(15))\n",
    "table = table_shape.table\n",
    "tbl = table._graphic_frame.element.graphic.graphicData.tbl\n",
    "style_id = '{5940675A-B579-460E-94D1-54222C63F5DA}' #UUIDはgithub参照 https://github.com/scanny/python-pptx/issues/27\n",
    "tbl[0][-1].text = style_id\n",
    "\n",
    "# 行見出しのテキスト設定\n",
    "colnames = ['Project ID', 'インスタンスタイプ', 'Price', '今月のコスト', '先月のコスト']\n",
    "for i in range(len(colnames)):\n",
    "    cell = table.cell(0, i)\t \n",
    "    cell.text = colnames[i]\n",
    "    # cell.fill.solid()\n",
    "    # cell.fill.fore_color.rgb = RGBColor(0, 32, 96)\n",
    "    # pg = cell.text_frame.paragraphs[0]\n",
    "    # pg.font.color.rgb = RGBColor(255, 255, 255)\n",
    "\n",
    "# セルに値を設定する\n",
    "for i in range(nrow):\n",
    "    value = list(df.iloc[i,])\n",
    "    # 1つ上の行のProjectIDと、挿入する行のProjectIDが一致するなら、ProjectIDとProjectのコストは挿入しない\n",
    "    if i == 0:\n",
    "        former_value = ['', '', '', '']\n",
    "    else:\n",
    "        former_value = list(df.iloc[i-1,])\n",
    "    if value[0] == former_value[0]:\n",
    "        value[0] = ''\n",
    "        value[3] = ''\n",
    "        value[4] = ''\n",
    "\n",
    "    for k in range(len(value)):\n",
    "        cell = table.cell(i+1, k)\n",
    "        cell.text = str(value[k])\n",
    "\n",
    "cost, cost_lastmonth = project_cost(df)\n",
    "\n",
    "cell = table.cell(ppt_nrow-1, 3)\n",
    "cell.text = 'Total: ' + str(cost) + '前月比: ' + str(round(cost/cost_lastmonth, 2)) + '倍'\n",
    "\n",
    "cell = table.cell(ppt_nrow-1, 4)\n",
    "cell.text = 'Total: ' + str(cost_lastmonth)\n",
    "\n",
    "prs.save('test.pptx')"
   ]
  },
  {
   "cell_type": "markdown",
   "metadata": {},
   "source": [
    "ファイル名に日付をいれておく"
   ]
  },
  {
   "cell_type": "code",
   "execution_count": 5,
   "metadata": {},
   "outputs": [
    {
     "data": {
      "text/plain": [
       "'20221123'"
      ]
     },
     "execution_count": 5,
     "metadata": {},
     "output_type": "execute_result"
    }
   ],
   "source": [
    "from datetime import date\n",
    "now = date.today()\n",
    "now.strftime('%Y%m%d')"
   ]
  },
  {
   "cell_type": "code",
   "execution_count": null,
   "metadata": {},
   "outputs": [],
   "source": []
  }
 ],
 "metadata": {
  "kernelspec": {
   "display_name": "Python 3.9.12",
   "language": "python",
   "name": "python3"
  },
  "language_info": {
   "codemirror_mode": {
    "name": "ipython",
    "version": 3
   },
   "file_extension": ".py",
   "mimetype": "text/x-python",
   "name": "python",
   "nbconvert_exporter": "python",
   "pygments_lexer": "ipython3",
   "version": "3.9.12"
  },
  "orig_nbformat": 4,
  "vscode": {
   "interpreter": {
    "hash": "9d62c5b16c209745aa34ea8539afdac5aed4f6a522ca7d73b47d1f0ef4e552e5"
   }
  }
 },
 "nbformat": 4,
 "nbformat_minor": 2
}
